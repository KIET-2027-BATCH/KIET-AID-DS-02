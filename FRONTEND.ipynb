{
 "cells": [
  {
   "cell_type": "code",
   "execution_count": 1,
   "metadata": {},
   "outputs": [
    {
     "name": "stdout",
     "output_type": "stream",
     "text": [
      "Python Version: 3.12.7 | packaged by Anaconda, Inc. | (main, Oct  4 2024, 13:17:27) [MSC v.1929 64 bit (AMD64)]\n"
     ]
    },
    {
     "name": "stderr",
     "output_type": "stream",
     "text": [
      "WARNING:absl:Compiled the loaded model, but the compiled metrics have yet to be built. `model.compile_metrics` will be empty until you train or evaluate the model.\n"
     ]
    },
    {
     "name": "stdout",
     "output_type": "stream",
     "text": [
      "✅ Model Loaded Successfully (full.h5)\n"
     ]
    }
   ],
   "source": [
    "import threading\n",
    "import numpy as np\n",
    "import tensorflow as tf\n",
    "import sys\n",
    "from tkinter import Tk, Canvas, Button, Label\n",
    "from PIL import ImageGrab, Image\n",
    "from tensorflow.keras.models import load_model\n",
    "\n",
    "print(\"Python Version:\", sys.version)\n",
    "\n",
    "class DrawingApp:\n",
    "    def __init__(self, root):\n",
    "        self.root = root\n",
    "        self.root.title(\"Handwritten Digit Recognition\")\n",
    "\n",
    "        self.canvas = Canvas(root, width=400, height=400, bg=\"white\")\n",
    "        self.canvas.pack()\n",
    "\n",
    "        try:\n",
    "            self.model = load_model(\"full.h5\")\n",
    "            print(\"✅ Model Loaded Successfully (full.h5)\")\n",
    "        except Exception as e:\n",
    "            print(f\"⚠️ Error: Model file 'full.h5' not found! ({e})\")\n",
    "            self.model = None\n",
    "\n",
    "        self.canvas.bind(\"<B1-Motion>\", self.draw_lines)\n",
    "\n",
    "        recognize_button = Button(root, text=\"Recognize\", command=self.recognize_action)\n",
    "        recognize_button.pack(side=\"left\", padx=10, pady=10)\n",
    "\n",
    "        clear_button = Button(root, text=\"Clear\", command=self.clear_canvas)\n",
    "        clear_button.pack(side=\"right\", padx=10, pady=10)\n",
    "\n",
    "        self.result_label = Label(root, text=\"Prediction: None\", font=(\"Arial\", 14))\n",
    "        self.result_label.pack(pady=10)\n",
    "\n",
    "    def draw_lines(self, event):\n",
    "        x, y = event.x, event.y\n",
    "        radius = 10\n",
    "        self.canvas.create_oval(x-radius, y-radius, x+radius, y+radius, fill=\"black\", outline=\"black\")\n",
    "\n",
    "    def clear_canvas(self):\n",
    "        self.canvas.delete(\"all\")\n",
    "        self.result_label.config(text=\"Prediction: None\")\n",
    "\n",
    "    def recognize_action(self):\n",
    "        threading.Thread(target=self._recognize).start()\n",
    "\n",
    "    def _recognize(self):\n",
    "        self.root.update()\n",
    "        x = self.canvas.winfo_rootx()\n",
    "        y = self.canvas.winfo_rooty()\n",
    "        w = x + self.canvas.winfo_width()\n",
    "        h = y + self.canvas.winfo_height()\n",
    "        \n",
    "        img = ImageGrab.grab(bbox=(x, y, w, h))\n",
    "\n",
    "        img = img.convert(\"L\")\n",
    "        img = img.resize((28, 28))\n",
    "\n",
    "        img_array = np.array(img)\n",
    "        img_array = np.where(img_array > np.mean(img_array), 255, 0)\n",
    "\n",
    "        img_array = 255 - img_array\n",
    "        img_array = img_array / 255.0\n",
    "        img_array = img_array.reshape(1, 28, 28, 1)\n",
    "\n",
    "        if self.model:\n",
    "            prediction = self.model.predict(img_array)\n",
    "            confidence = np.max(prediction) * 100\n",
    "            digit = np.argmax(prediction)\n",
    "\n",
    "            if confidence < 70:\n",
    "                self.result_label.config(text=\"Prediction: Not Recognized\")\n",
    "                print(\"⚠️ Low confidence! Not Recognized\")\n",
    "            else:\n",
    "                self.result_label.config(text=f\"Prediction: {digit} (Confidence: {confidence:.2f}%)\")\n",
    "                print(f\"📝 Recognized Digit: {digit} (Confidence: {confidence:.2f}%)\")\n",
    "        else:\n",
    "            print(\"⚠️ No model loaded!\")\n",
    "\n",
    "if __name__ == \"__main__\":\n",
    "    root = Tk()\n",
    "    app = DrawingApp(root)\n",
    "    root.mainloop()\n"
   ]
  }
 ],
 "metadata": {
  "kernelspec": {
   "display_name": "base",
   "language": "python",
   "name": "python3"
  },
  "language_info": {
   "codemirror_mode": {
    "name": "ipython",
    "version": 3
   },
   "file_extension": ".py",
   "mimetype": "text/x-python",
   "name": "python",
   "nbconvert_exporter": "python",
   "pygments_lexer": "ipython3",
   "version": "3.12.7"
  }
 },
 "nbformat": 4,
 "nbformat_minor": 2
}
